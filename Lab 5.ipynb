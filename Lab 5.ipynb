{
  "cells": [
    {
      "cell_type": "markdown",
      "id": "d5b1f637",
      "metadata": {
        "id": "d5b1f637"
      },
      "source": [
        "# Lab 5 for Big Data programming.\n",
        "# Apache Spark Machine Learning using Dataframes in Google Colab\n",
        "\n",
        "\n"
      ]
    },
    {
      "cell_type": "markdown",
      "id": "7739c1ee",
      "metadata": {
        "id": "7739c1ee"
      },
      "source": [
        "# 1.\tSetup an Apache Spark instance in Google Colab"
      ]
    },
    {
      "cell_type": "code",
      "execution_count": 1,
      "id": "f9f2c8c2",
      "metadata": {
        "id": "f9f2c8c2"
      },
      "outputs": [],
      "source": [
        "# Run once.\n",
        "\n",
        "!apt-get install openjdk-8-jdk-headless -qq > /dev/null\n",
        "!wget -q https://archive.apache.org/dist/spark/spark-3.0.2/spark-3.0.2-bin-hadoop2.7.tgz\n",
        "!tar xf spark-3.0.2-bin-hadoop2.7.tgz\n",
        "!pip install -q findspark\n",
        "\n",
        "#Run Once\n",
        "import os\n",
        "os.environ[\"SPARK_HOME\"] = \"/content/spark-3.0.2-bin-hadoop2.7\"\n",
        "import findspark\n",
        "findspark.init()\n"
      ]
    },
    {
      "cell_type": "markdown",
      "id": "b10f08d4",
      "metadata": {
        "id": "b10f08d4"
      },
      "source": [
        "# 2.\tCreate a Spark session"
      ]
    },
    {
      "cell_type": "code",
      "execution_count": 2,
      "id": "386acf61",
      "metadata": {
        "colab": {
          "base_uri": "https://localhost:8080/",
          "height": 219
        },
        "id": "386acf61",
        "outputId": "bc852687-d6b1-424c-f132-9480f4d924a2"
      },
      "outputs": [
        {
          "output_type": "execute_result",
          "data": {
            "text/plain": [
              "<pyspark.sql.session.SparkSession at 0x7f60b9a20bd0>"
            ],
            "text/html": [
              "\n",
              "            <div>\n",
              "                <p><b>SparkSession - in-memory</b></p>\n",
              "                \n",
              "        <div>\n",
              "            <p><b>SparkContext</b></p>\n",
              "\n",
              "            <p><a href=\"http://e8d0fb207df9:4050\">Spark UI</a></p>\n",
              "\n",
              "            <dl>\n",
              "              <dt>Version</dt>\n",
              "                <dd><code>v3.0.2</code></dd>\n",
              "              <dt>Master</dt>\n",
              "                <dd><code>local</code></dd>\n",
              "              <dt>AppName</dt>\n",
              "                <dd><code>Colab</code></dd>\n",
              "            </dl>\n",
              "        </div>\n",
              "        \n",
              "            </div>\n",
              "        "
            ]
          },
          "metadata": {},
          "execution_count": 2
        }
      ],
      "source": [
        "from pyspark.sql import SparkSession\n",
        "spark = SparkSession.builder\\\n",
        "        .master(\"local\")\\\n",
        "        .appName(\"Colab\")\\\n",
        "        .config('spark.ui.port', '4050')\\\n",
        "        .getOrCreate()\n",
        "spark\n"
      ]
    },
    {
      "cell_type": "markdown",
      "id": "ad50a00a",
      "metadata": {
        "id": "ad50a00a"
      },
      "source": [
        "# 3.\tDownload the Iris dataset and another dataset of your choosing\n",
        "\n"
      ]
    },
    {
      "cell_type": "code",
      "execution_count": 36,
      "id": "c8a6ed8b",
      "metadata": {
        "colab": {
          "base_uri": "https://localhost:8080/"
        },
        "id": "c8a6ed8b",
        "outputId": "bb7c5788-85da-4081-c31e-2f7e7ff4e9fd"
      },
      "outputs": [
        {
          "output_type": "stream",
          "name": "stdout",
          "text": [
            "--2022-03-21 16:31:44--  https://archive.ics.uci.edu/ml/machine-learning-databases/iris/iris.data\n",
            "Resolving archive.ics.uci.edu (archive.ics.uci.edu)... 128.195.10.252\n",
            "Connecting to archive.ics.uci.edu (archive.ics.uci.edu)|128.195.10.252|:443... connected.\n",
            "HTTP request sent, awaiting response... 200 OK\n",
            "Length: 4551 (4.4K) [application/x-httpd-php]\n",
            "Saving to: ‘sample_data/iris.data’\n",
            "\n",
            "\rsample_data/iris.da   0%[                    ]       0  --.-KB/s               \rsample_data/iris.da 100%[===================>]   4.44K  --.-KB/s    in 0s      \n",
            "\n",
            "2022-03-21 16:31:44 (98.0 MB/s) - ‘sample_data/iris.data’ saved [4551/4551]\n",
            "\n",
            "--2022-03-21 16:31:44--  https://archive.ics.uci.edu/ml/machine-learning-databases/adult/adult.data\n",
            "Resolving archive.ics.uci.edu (archive.ics.uci.edu)... 128.195.10.252\n",
            "Connecting to archive.ics.uci.edu (archive.ics.uci.edu)|128.195.10.252|:443... connected.\n",
            "HTTP request sent, awaiting response... 200 OK\n",
            "Length: 3974305 (3.8M) [application/x-httpd-php]\n",
            "Saving to: ‘sample_data/adult.data’\n",
            "\n",
            "sample_data/adult.d 100%[===================>]   3.79M  7.36MB/s    in 0.5s    \n",
            "\n",
            "2022-03-21 16:31:45 (7.36 MB/s) - ‘sample_data/adult.data’ saved [3974305/3974305]\n",
            "\n"
          ]
        }
      ],
      "source": [
        "!wget \"https://archive.ics.uci.edu/ml/machine-learning-databases/iris/iris.data\" -O sample_data/iris.data\n",
        "!wget \"https://archive.ics.uci.edu/ml/machine-learning-databases/adult/adult.data\" -O sample_data/adult.data"
      ]
    },
    {
      "cell_type": "markdown",
      "id": "a215916e",
      "metadata": {
        "id": "a215916e"
      },
      "source": [
        "# 4.\tImport the Iris dataset into a dataframe and insert screenshot of df.show()command output:"
      ]
    },
    {
      "cell_type": "code",
      "execution_count": 37,
      "id": "51f4e094",
      "metadata": {
        "id": "51f4e094",
        "outputId": "2117b3ad-6077-4b65-fecf-ffb9c6052bab",
        "colab": {
          "base_uri": "https://localhost:8080/"
        }
      },
      "outputs": [
        {
          "output_type": "stream",
          "name": "stdout",
          "text": [
            "root\n",
            " |-- SepalLength: double (nullable = true)\n",
            " |-- SepalWidth: double (nullable = true)\n",
            " |-- PetalLength: double (nullable = true)\n",
            " |-- PetalWidth: double (nullable = true)\n",
            " |-- Class: string (nullable = true)\n",
            "\n"
          ]
        }
      ],
      "source": [
        "df_iris = spark.read.csv('sample_data/iris.data', inferSchema=True)\\\n",
        ".toDF(\"SepalLength\",\"SepalWidth\",\"PetalLength\",\"PetalWidth\",\"Class\")\n",
        "df_iris.printSchema()"
      ]
    },
    {
      "cell_type": "markdown",
      "source": [
        "Import the second dataset for use later"
      ],
      "metadata": {
        "id": "AVgS6-saUW56"
      },
      "id": "AVgS6-saUW56"
    },
    {
      "cell_type": "code",
      "source": [
        ""
      ],
      "metadata": {
        "id": "Z2IBV4CgTkZA",
        "outputId": "70699468-56d9-4d88-b825-ac7fc24db416",
        "colab": {
          "base_uri": "https://localhost:8080/"
        }
      },
      "id": "Z2IBV4CgTkZA",
      "execution_count": 65,
      "outputs": [
        {
          "output_type": "stream",
          "name": "stdout",
          "text": [
            "root\n",
            " |-- age: integer (nullable = true)\n",
            " |-- workclass: string (nullable = true)\n",
            " |-- fnlwgt: double (nullable = true)\n",
            " |-- education: string (nullable = true)\n",
            " |-- education-num: double (nullable = true)\n",
            " |-- marital-status: string (nullable = true)\n",
            " |-- occupation: string (nullable = true)\n",
            " |-- relationship: string (nullable = true)\n",
            " |-- race: string (nullable = true)\n",
            " |-- sex: string (nullable = true)\n",
            " |-- capital-gain: double (nullable = true)\n",
            " |-- capital-loss: double (nullable = true)\n",
            " |-- hours-per-week: double (nullable = true)\n",
            " |-- native-country: string (nullable = true)\n",
            " |-- class: string (nullable = true)\n",
            "\n"
          ]
        }
      ]
    },
    {
      "cell_type": "markdown",
      "id": "4bee4106",
      "metadata": {
        "id": "4bee4106"
      },
      "source": [
        "# 5.\tSpark ML can only deal with one features column - so we need to vectorise the multiple columns into one:"
      ]
    },
    {
      "cell_type": "code",
      "execution_count": 39,
      "id": "56081b8a",
      "metadata": {
        "id": "56081b8a"
      },
      "outputs": [],
      "source": [
        "from pyspark.ml.linalg import Vectors\n",
        "from pyspark.ml.feature import VectorAssembler\n"
      ]
    },
    {
      "cell_type": "code",
      "execution_count": 42,
      "id": "28cf0ae0",
      "metadata": {
        "colab": {
          "base_uri": "https://localhost:8080/"
        },
        "id": "28cf0ae0",
        "outputId": "690ea4f2-1ce6-4ffe-d91e-7b6ef3a58463"
      },
      "outputs": [
        {
          "output_type": "stream",
          "name": "stdout",
          "text": [
            "+-----------+----------+-----------+----------+-----------+-----------------+\n",
            "|SepalLength|SepalWidth|PetalLength|PetalWidth|      Class|         features|\n",
            "+-----------+----------+-----------+----------+-----------+-----------------+\n",
            "|        5.1|       3.5|        1.4|       0.2|Iris-setosa|[5.1,3.5,1.4,0.2]|\n",
            "|        4.9|       3.0|        1.4|       0.2|Iris-setosa|[4.9,3.0,1.4,0.2]|\n",
            "|        4.7|       3.2|        1.3|       0.2|Iris-setosa|[4.7,3.2,1.3,0.2]|\n",
            "+-----------+----------+-----------+----------+-----------+-----------------+\n",
            "only showing top 3 rows\n",
            "\n"
          ]
        }
      ],
      "source": [
        "vector_assembler=VectorAssembler(\\\n",
        "inputCols=[\"SepalLength\",\"SepalWidth\",\"PetalLength\",\"PetalWidth\"],\\\n",
        "outputCol=\"features\")\n",
        "df_iris=vector_assembler.transform(df_iris)\n",
        "df_iris.show(3)"
      ]
    },
    {
      "cell_type": "code",
      "execution_count": 43,
      "id": "a0a0e244",
      "metadata": {
        "colab": {
          "base_uri": "https://localhost:8080/"
        },
        "id": "a0a0e244",
        "outputId": "60e1b8c3-cfbc-48b6-bd04-23f5199a168c"
      },
      "outputs": [
        {
          "output_type": "stream",
          "name": "stdout",
          "text": [
            "+-----------+-----------------+\n",
            "|      Class|         features|\n",
            "+-----------+-----------------+\n",
            "|Iris-setosa|[5.1,3.5,1.4,0.2]|\n",
            "|Iris-setosa|[4.9,3.0,1.4,0.2]|\n",
            "|Iris-setosa|[4.7,3.2,1.3,0.2]|\n",
            "+-----------+-----------------+\n",
            "only showing top 3 rows\n",
            "\n"
          ]
        }
      ],
      "source": [
        "df_temp=df_iris.drop(\"SepalLength\",\"SepalWidth\",\"PetalLength\",\"PetalWidth\")\n",
        "df_temp.show(3)\n"
      ]
    },
    {
      "cell_type": "markdown",
      "id": "31a56a38",
      "metadata": {
        "id": "31a56a38"
      },
      "source": [
        "# 6.\tThe final data preparation step is to index the Class column - to use numeric rather than text values - run the following command and display your output of Class, features & ClassIndex columns:"
      ]
    },
    {
      "cell_type": "code",
      "execution_count": 44,
      "id": "da2a1ef0",
      "metadata": {
        "id": "da2a1ef0"
      },
      "outputs": [],
      "source": [
        "from pyspark.ml.feature import StringIndexer\n",
        "l_indexer=StringIndexer(inputCol=\"Class\", outputCol=\"ClassIndex\")\n",
        "df_iris = l_indexer.fit(df_iris).transform(df_iris)"
      ]
    },
    {
      "cell_type": "code",
      "execution_count": null,
      "id": "25c31775",
      "metadata": {
        "colab": {
          "base_uri": "https://localhost:8080/"
        },
        "id": "25c31775",
        "outputId": "8f1ca8f2-1617-4c8b-ded0-c56eb3aac529"
      },
      "outputs": [
        {
          "output_type": "stream",
          "name": "stdout",
          "text": [
            "+-----------+----------+-----------+----------+-----------+----------+-----------------+\n",
            "|SepalLength|SepalWidth|PetalLength|PetalWidth|      Class|ClassIndex|         features|\n",
            "+-----------+----------+-----------+----------+-----------+----------+-----------------+\n",
            "|        5.1|       3.5|        1.4|       0.2|Iris-setosa|       0.0|[5.1,3.5,1.4,0.2]|\n",
            "|        4.9|       3.0|        1.4|       0.2|Iris-setosa|       0.0|[4.9,3.0,1.4,0.2]|\n",
            "|        4.7|       3.2|        1.3|       0.2|Iris-setosa|       0.0|[4.7,3.2,1.3,0.2]|\n",
            "|        4.6|       3.1|        1.5|       0.2|Iris-setosa|       0.0|[4.6,3.1,1.5,0.2]|\n",
            "|        5.0|       3.6|        1.4|       0.2|Iris-setosa|       0.0|[5.0,3.6,1.4,0.2]|\n",
            "|        5.4|       3.9|        1.7|       0.4|Iris-setosa|       0.0|[5.4,3.9,1.7,0.4]|\n",
            "|        4.6|       3.4|        1.4|       0.3|Iris-setosa|       0.0|[4.6,3.4,1.4,0.3]|\n",
            "|        5.0|       3.4|        1.5|       0.2|Iris-setosa|       0.0|[5.0,3.4,1.5,0.2]|\n",
            "|        4.4|       2.9|        1.4|       0.2|Iris-setosa|       0.0|[4.4,2.9,1.4,0.2]|\n",
            "|        4.9|       3.1|        1.5|       0.1|Iris-setosa|       0.0|[4.9,3.1,1.5,0.1]|\n",
            "+-----------+----------+-----------+----------+-----------+----------+-----------------+\n",
            "only showing top 10 rows\n",
            "\n"
          ]
        }
      ],
      "source": [
        "df.show(10)"
      ]
    },
    {
      "cell_type": "markdown",
      "id": "07307297",
      "metadata": {
        "id": "07307297"
      },
      "source": [
        "# 7.\tSplit your data into training and test datasets:"
      ]
    },
    {
      "cell_type": "code",
      "execution_count": 46,
      "id": "9dcd5495",
      "metadata": {
        "id": "9dcd5495"
      },
      "outputs": [],
      "source": [
        "(trainingData,testData) = df_iris.randomSplit([0.7,0.3])"
      ]
    },
    {
      "cell_type": "markdown",
      "id": "cdba3ce0",
      "metadata": {
        "id": "cdba3ce0"
      },
      "source": [
        "# 8.\tDecision Tree Classifier \n",
        "## Specify the DecisionTreeClassifier and train the model on your training dataset:\n"
      ]
    },
    {
      "cell_type": "code",
      "execution_count": 47,
      "id": "51aa78dc",
      "metadata": {
        "id": "51aa78dc"
      },
      "outputs": [],
      "source": [
        "from pyspark.ml.classification import DecisionTreeClassifier \n",
        "from pyspark.ml.evaluation import MulticlassClassificationEvaluator\n"
      ]
    },
    {
      "cell_type": "code",
      "execution_count": 48,
      "id": "e9ea2a05",
      "metadata": {
        "id": "e9ea2a05"
      },
      "outputs": [],
      "source": [
        "dt = DecisionTreeClassifier(labelCol=\"ClassIndex\",featuresCol=\"features\")\n",
        "model=dt.fit(trainingData)"
      ]
    },
    {
      "cell_type": "markdown",
      "id": "db4692ce",
      "metadata": {
        "id": "db4692ce"
      },
      "source": [
        "# 9.\tTest your model with your test dataset: "
      ]
    },
    {
      "cell_type": "code",
      "execution_count": 49,
      "id": "9e1487d4",
      "metadata": {
        "id": "9e1487d4"
      },
      "outputs": [],
      "source": [
        "predictions = model.transform(testData)"
      ]
    },
    {
      "cell_type": "code",
      "execution_count": 50,
      "id": "94b91670",
      "metadata": {
        "colab": {
          "base_uri": "https://localhost:8080/"
        },
        "id": "94b91670",
        "outputId": "737f1c59-cb6d-48eb-bd7d-e75fc06bc045"
      },
      "outputs": [
        {
          "output_type": "stream",
          "name": "stdout",
          "text": [
            "+----------+----------+\n",
            "|prediction|ClassIndex|\n",
            "+----------+----------+\n",
            "|       0.0|       0.0|\n",
            "|       0.0|       0.0|\n",
            "|       0.0|       0.0|\n",
            "|       0.0|       0.0|\n",
            "|       0.0|       0.0|\n",
            "|       1.0|       1.0|\n",
            "|       1.0|       1.0|\n",
            "|       0.0|       0.0|\n",
            "|       0.0|       0.0|\n",
            "|       0.0|       0.0|\n",
            "|       0.0|       0.0|\n",
            "|       0.0|       0.0|\n",
            "|       0.0|       0.0|\n",
            "|       0.0|       0.0|\n",
            "|       1.0|       1.0|\n",
            "+----------+----------+\n",
            "only showing top 15 rows\n",
            "\n"
          ]
        }
      ],
      "source": [
        "predictions.select(\"prediction\",\"ClassIndex\").show(15)"
      ]
    },
    {
      "cell_type": "markdown",
      "id": "43df52f9",
      "metadata": {
        "id": "43df52f9"
      },
      "source": [
        "# 10.\tRun an evaluator function to show the accuracy of your model:"
      ]
    },
    {
      "cell_type": "code",
      "execution_count": 51,
      "id": "a61f6143",
      "metadata": {
        "colab": {
          "base_uri": "https://localhost:8080/"
        },
        "id": "a61f6143",
        "outputId": "d97c6f1d-fdbd-4e23-ed53-e5abe3a0af16"
      },
      "outputs": [
        {
          "output_type": "stream",
          "name": "stdout",
          "text": [
            "Test Error = 0.05\n",
            "Test Set accuracy = 0.95\n"
          ]
        }
      ],
      "source": [
        "evaluator= MulticlassClassificationEvaluator(\\\n",
        "labelCol=\"ClassIndex\", predictionCol=\"prediction\",\\\n",
        "metricName=\"accuracy\")\n",
        "accuracy=evaluator.evaluate(predictions)\n",
        "print(\"Test Error = %g\" % (1.0 - accuracy))\n",
        "print(\"Test Set accuracy = \" +str(accuracy))"
      ]
    },
    {
      "cell_type": "markdown",
      "id": "b157244e",
      "metadata": {
        "id": "b157244e"
      },
      "source": [
        "# 11.\tRandom Forest Classifier\n",
        "\n",
        "## Specify the RandomForestClassifier, train the model on your training dataset, predict using your test dataset, and run an evaluator to test accuracy:\n"
      ]
    },
    {
      "cell_type": "code",
      "execution_count": 52,
      "id": "f3578121",
      "metadata": {
        "colab": {
          "base_uri": "https://localhost:8080/"
        },
        "id": "f3578121",
        "outputId": "cb7de60d-383d-4f8b-e6ef-8a63182d2f87"
      },
      "outputs": [
        {
          "output_type": "stream",
          "name": "stdout",
          "text": [
            "+----------+----------+\n",
            "|prediction|ClassIndex|\n",
            "+----------+----------+\n",
            "|       0.0|       0.0|\n",
            "|       0.0|       0.0|\n",
            "|       0.0|       0.0|\n",
            "|       0.0|       0.0|\n",
            "|       0.0|       0.0|\n",
            "+----------+----------+\n",
            "only showing top 5 rows\n",
            "\n"
          ]
        }
      ],
      "source": [
        "from pyspark.ml.classification import RandomForestClassifier \n",
        "rf=RandomForestClassifier(labelCol=\"ClassIndex\",\\\n",
        "featuresCol=\"features\",numTrees=10)\n",
        "model=rf.fit(trainingData)\n",
        "predictions=model.transform(testData)\n",
        "predictions.select(\"prediction\",\"ClassIndex\").show(5)"
      ]
    },
    {
      "cell_type": "code",
      "execution_count": 53,
      "id": "443d95e7",
      "metadata": {
        "colab": {
          "base_uri": "https://localhost:8080/"
        },
        "id": "443d95e7",
        "outputId": "983bb973-1dde-418b-ebb4-d288f6ed4320"
      },
      "outputs": [
        {
          "output_type": "stream",
          "name": "stdout",
          "text": [
            "Test Error = 0.025\n",
            "Test Set accuracy = 0.975\n"
          ]
        }
      ],
      "source": [
        "evaluator= \\\n",
        "MulticlassClassificationEvaluator(labelCol=\"ClassIndex\",\\\n",
        "predictionCol=\"prediction\",metricName=\"accuracy\")\n",
        "accuracy=evaluator.evaluate(predictions)\n",
        "print(\"Test Error = %g\" % (1.0 - accuracy))\n",
        "print(\"Test Set accuracy = \" +str(accuracy))"
      ]
    },
    {
      "cell_type": "markdown",
      "id": "0bbecf19",
      "metadata": {
        "id": "0bbecf19"
      },
      "source": [
        "# 12.\tNaive Bayes Classifier\n",
        "## Specify the NaiveBayes classifier, train the model on your training dataset, predict using your test dataset, and run an evaluator to test accuracy:\n"
      ]
    },
    {
      "cell_type": "code",
      "execution_count": 54,
      "id": "74c51651",
      "metadata": {
        "id": "74c51651"
      },
      "outputs": [],
      "source": [
        "from pyspark.ml.classification import NaiveBayes \n",
        "nb=NaiveBayes(labelCol=\"ClassIndex\",\\\n",
        "featuresCol=\"features\",smoothing=1.0,\\\n",
        "modelType=\"multinomial\")\n",
        "model=nb.fit(trainingData)\n"
      ]
    },
    {
      "cell_type": "code",
      "execution_count": 55,
      "id": "be780693",
      "metadata": {
        "colab": {
          "base_uri": "https://localhost:8080/"
        },
        "id": "be780693",
        "outputId": "8addb2ef-7284-4cd9-b30e-8017669db4c8"
      },
      "outputs": [
        {
          "output_type": "stream",
          "name": "stdout",
          "text": [
            "+-----------+----------+--------------------+----------+\n",
            "|      Class|ClassIndex|         probability|prediction|\n",
            "+-----------+----------+--------------------+----------+\n",
            "|Iris-setosa|       0.0|[0.66450182167383...|       0.0|\n",
            "|Iris-setosa|       0.0|[0.68280837280062...|       0.0|\n",
            "|Iris-setosa|       0.0|[0.65395351743685...|       0.0|\n",
            "|Iris-setosa|       0.0|[0.63486571338523...|       0.0|\n",
            "|Iris-setosa|       0.0|[0.68450782946660...|       0.0|\n",
            "+-----------+----------+--------------------+----------+\n",
            "only showing top 5 rows\n",
            "\n"
          ]
        }
      ],
      "source": [
        "predictions=model.transform(testData)\n",
        "predictions.select(\"Class\",\"ClassIndex\",\n",
        "\"probability\",\"prediction\").show(5)"
      ]
    },
    {
      "cell_type": "code",
      "execution_count": 56,
      "id": "0965acd9",
      "metadata": {
        "colab": {
          "base_uri": "https://localhost:8080/"
        },
        "id": "0965acd9",
        "outputId": "5e0f4c55-d846-4194-c777-96f8f2b54387"
      },
      "outputs": [
        {
          "output_type": "stream",
          "name": "stdout",
          "text": [
            "Test Error = 0.025\n",
            "Test Set accuracy = 0.975\n"
          ]
        }
      ],
      "source": [
        "evaluator= \\\n",
        "MulticlassClassificationEvaluator(labelCol=\"ClassIndex\",\\\n",
        "predictionCol=\"prediction\",metricName=\"accuracy\")\n",
        "accuracy=evaluator.evaluate(predictions)\n",
        "print(\"Test Error = %g\" % (1.0 - accuracy))\n",
        "print(\"Test Set accuracy = \" +str(accuracy))"
      ]
    },
    {
      "cell_type": "markdown",
      "source": [
        "# Now try it with the other Dataset.\n"
      ],
      "metadata": {
        "id": "BTve1qUDVy1r"
      },
      "id": "BTve1qUDVy1r"
    },
    {
      "cell_type": "code",
      "source": [
        "df_adult = spark.read.csv('sample_data/adult.data', inferSchema=True)\\\n",
        ".toDF(\"age\",\"workclass\",\"fnlwgt\",\"education\",\"education-num\",\"marital-status\",\"occupation\",\"relationship\",\"race\",\"sex\",\"capital-gain\",\"capital-loss\",\"hours-per-week\",\"native-country\",\"class\")\n",
        "df_adult.printSchema()"
      ],
      "metadata": {
        "id": "gvb9AtKyYa_h",
        "outputId": "6c9dfb49-0adf-47a3-b7b2-384cd2cb55fc",
        "colab": {
          "base_uri": "https://localhost:8080/"
        }
      },
      "id": "gvb9AtKyYa_h",
      "execution_count": 75,
      "outputs": [
        {
          "output_type": "stream",
          "name": "stdout",
          "text": [
            "root\n",
            " |-- age: integer (nullable = true)\n",
            " |-- workclass: string (nullable = true)\n",
            " |-- fnlwgt: double (nullable = true)\n",
            " |-- education: string (nullable = true)\n",
            " |-- education-num: double (nullable = true)\n",
            " |-- marital-status: string (nullable = true)\n",
            " |-- occupation: string (nullable = true)\n",
            " |-- relationship: string (nullable = true)\n",
            " |-- race: string (nullable = true)\n",
            " |-- sex: string (nullable = true)\n",
            " |-- capital-gain: double (nullable = true)\n",
            " |-- capital-loss: double (nullable = true)\n",
            " |-- hours-per-week: double (nullable = true)\n",
            " |-- native-country: string (nullable = true)\n",
            " |-- class: string (nullable = true)\n",
            "\n"
          ]
        }
      ]
    },
    {
      "cell_type": "code",
      "source": [
        "vector_assembler=VectorAssembler(\\\n",
        "inputCols=[\"education-num\",\"capital-gain\",\"capital-loss\",\"hours-per-week\"],\\\n",
        "outputCol=\"features\")\n",
        "df_adult=vector_assembler.transform(df_adult)\n",
        "df_adult.show(3)"
      ],
      "metadata": {
        "id": "0dkg2F8JG6Qa",
        "outputId": "3df71683-f381-44d9-fa70-dd0168a13082",
        "colab": {
          "base_uri": "https://localhost:8080/"
        }
      },
      "id": "0dkg2F8JG6Qa",
      "execution_count": 76,
      "outputs": [
        {
          "output_type": "stream",
          "name": "stdout",
          "text": [
            "+---+-----------------+--------+----------+-------------+-------------------+------------------+--------------+------+-----+------------+------------+--------------+--------------+------+--------------------+\n",
            "|age|        workclass|  fnlwgt| education|education-num|     marital-status|        occupation|  relationship|  race|  sex|capital-gain|capital-loss|hours-per-week|native-country| class|            features|\n",
            "+---+-----------------+--------+----------+-------------+-------------------+------------------+--------------+------+-----+------------+------------+--------------+--------------+------+--------------------+\n",
            "| 39|        State-gov| 77516.0| Bachelors|         13.0|      Never-married|      Adm-clerical| Not-in-family| White| Male|      2174.0|         0.0|          40.0| United-States| <=50K|[13.0,2174.0,0.0,...|\n",
            "| 50| Self-emp-not-inc| 83311.0| Bachelors|         13.0| Married-civ-spouse|   Exec-managerial|       Husband| White| Male|         0.0|         0.0|          13.0| United-States| <=50K| [13.0,0.0,0.0,13.0]|\n",
            "| 38|          Private|215646.0|   HS-grad|          9.0|           Divorced| Handlers-cleaners| Not-in-family| White| Male|         0.0|         0.0|          40.0| United-States| <=50K|  [9.0,0.0,0.0,40.0]|\n",
            "+---+-----------------+--------+----------+-------------+-------------------+------------------+--------------+------+-----+------------+------------+--------------+--------------+------+--------------------+\n",
            "only showing top 3 rows\n",
            "\n"
          ]
        }
      ]
    },
    {
      "cell_type": "code",
      "source": [
        "df_adult=df_adult.drop(\"age\",\"workclass\",\"education\",\"fnlwgt\",\"marital-status\",\"occupation\",\"relationship\",\"race\",\"sex\",\"native-country\")\n",
        "l_indexer=StringIndexer(inputCol=\"class\", outputCol=\"ClassIndex\")\n",
        "df_adult = l_indexer.fit(df_adult).transform(df_adult)\n",
        "df_adult.show(3)"
      ],
      "metadata": {
        "id": "v1Vjw9T5G5dr",
        "outputId": "8322878d-ccb9-43c4-cfa3-d1f0da96a586",
        "colab": {
          "base_uri": "https://localhost:8080/"
        }
      },
      "id": "v1Vjw9T5G5dr",
      "execution_count": 77,
      "outputs": [
        {
          "output_type": "stream",
          "name": "stdout",
          "text": [
            "+-------------+------------+------------+--------------+------+--------------------+\n",
            "|education-num|capital-gain|capital-loss|hours-per-week| class|            features|\n",
            "+-------------+------------+------------+--------------+------+--------------------+\n",
            "|         13.0|      2174.0|         0.0|          40.0| <=50K|[13.0,2174.0,0.0,...|\n",
            "|         13.0|         0.0|         0.0|          13.0| <=50K| [13.0,0.0,0.0,13.0]|\n",
            "|          9.0|         0.0|         0.0|          40.0| <=50K|  [9.0,0.0,0.0,40.0]|\n",
            "+-------------+------------+------------+--------------+------+--------------------+\n",
            "only showing top 3 rows\n",
            "\n"
          ]
        }
      ]
    },
    {
      "cell_type": "markdown",
      "source": [
        "# Set up the training and test data."
      ],
      "metadata": {
        "id": "doVrllP1cZ1Z"
      },
      "id": "doVrllP1cZ1Z"
    },
    {
      "cell_type": "code",
      "source": [
        "(trainingData_adult,testData_adult) = df_adult.randomSplit([0.7,0.3])"
      ],
      "metadata": {
        "id": "MobuP0sCbFl3"
      },
      "id": "MobuP0sCbFl3",
      "execution_count": null,
      "outputs": []
    },
    {
      "cell_type": "markdown",
      "metadata": {
        "id": "cKxOlsqQbGNw"
      },
      "source": [
        "# Decision Tree Classifier for the adult data.\n"
      ],
      "id": "cKxOlsqQbGNw"
    },
    {
      "cell_type": "code",
      "source": [
        "dt_adult = DecisionTreeClassifier(labelCol=\"ClassIndex\",featuresCol=\"features\")\n",
        "model=dt.fit(trainingData_adult)\n",
        "\n",
        "predictions = model.transform(testData_adult)\n",
        "predictions.select(\"prediction\",\"ClassIndex\").show(10)"
      ],
      "metadata": {
        "id": "gyvjdSxbbFsa",
        "outputId": "ceff449a-16fd-44a5-e397-b2abcbb0b2ad",
        "colab": {
          "base_uri": "https://localhost:8080/"
        }
      },
      "id": "gyvjdSxbbFsa",
      "execution_count": 94,
      "outputs": [
        {
          "output_type": "stream",
          "name": "stdout",
          "text": [
            "+----------+----------+\n",
            "|prediction|ClassIndex|\n",
            "+----------+----------+\n",
            "|       0.0|       0.0|\n",
            "|       0.0|       0.0|\n",
            "|       0.0|       0.0|\n",
            "|       0.0|       0.0|\n",
            "|       0.0|       0.0|\n",
            "|       0.0|       0.0|\n",
            "|       0.0|       0.0|\n",
            "|       0.0|       0.0|\n",
            "|       0.0|       0.0|\n",
            "|       0.0|       0.0|\n",
            "+----------+----------+\n",
            "only showing top 10 rows\n",
            "\n"
          ]
        }
      ]
    },
    {
      "cell_type": "code",
      "source": [
        "evaluator= MulticlassClassificationEvaluator(\\\n",
        "labelCol=\"ClassIndex\", predictionCol=\"prediction\",\\\n",
        "metricName=\"accuracy\")\n",
        "accuracy=evaluator.evaluate(predictions)\n",
        "\n",
        "print(\"Desision Tree for the adult data\")\n",
        "print(\"================================\")\n",
        "print(\"Test Error = %g\" % (1.0 - accuracy))\n",
        "print(\"Test Set accuracy = \" +str(accuracy))"
      ],
      "metadata": {
        "id": "AaZIZAI8Zz-v",
        "outputId": "05cff3d4-a776-4a1c-cf7d-98ec0415640e",
        "colab": {
          "base_uri": "https://localhost:8080/"
        }
      },
      "id": "AaZIZAI8Zz-v",
      "execution_count": 95,
      "outputs": [
        {
          "output_type": "stream",
          "name": "stdout",
          "text": [
            "Desision Tree for the adult data\n",
            "================================\n",
            "Test Error = 0.184284\n",
            "Test Set accuracy = 0.815715912620354\n"
          ]
        }
      ]
    },
    {
      "cell_type": "markdown",
      "source": [
        "#  Random Forest Classifier for the adult data.\n",
        "\n",
        "```\n",
        "# This is formatted as code\n",
        "```\n",
        "\n"
      ],
      "metadata": {
        "id": "E0vE64drbrkC"
      },
      "id": "E0vE64drbrkC"
    },
    {
      "cell_type": "code",
      "source": [
        "rf_adult=RandomForestClassifier(labelCol=\"ClassIndex\",\\\n",
        "featuresCol=\"features\",numTrees=10)\n",
        "model=rf_adult.fit(trainingData_adult)\n",
        "predictions=model.transform(testData_adult)\n",
        "\n",
        "evaluator= \\\n",
        "MulticlassClassificationEvaluator(labelCol=\"ClassIndex\",\\\n",
        "predictionCol=\"prediction\",metricName=\"accuracy\")\n",
        "accuracy=evaluator.evaluate(predictions)\n",
        "\n",
        "print(\"Random Forest for the adult data\")\n",
        "print(\"================================\")\n",
        "print(\"Test Error = %g\" % (1.0 - accuracy))\n",
        "print(\"Test Set accuracy = \" +str(accuracy))\n"
      ],
      "metadata": {
        "outputId": "409a6af5-a9ac-46b1-8d0a-5a9eeb066b20",
        "colab": {
          "base_uri": "https://localhost:8080/"
        },
        "id": "Tk44T7vKbhBf"
      },
      "execution_count": 100,
      "outputs": [
        {
          "output_type": "stream",
          "name": "stdout",
          "text": [
            "Random Forest for the adult data\n",
            "================================\n",
            "Test Error = 0.180868\n",
            "Test Set accuracy = 0.8191324153639093\n"
          ]
        }
      ],
      "id": "Tk44T7vKbhBf"
    },
    {
      "cell_type": "markdown",
      "source": [
        "# Naive Bayes Classifier for the adult data."
      ],
      "metadata": {
        "id": "hpwPTJKedKpf"
      },
      "id": "hpwPTJKedKpf"
    },
    {
      "cell_type": "code",
      "source": [
        "nb_adult=NaiveBayes(labelCol=\"ClassIndex\",\\\n",
        "featuresCol=\"features\",smoothing=1.0,\\\n",
        "modelType=\"multinomial\")\n",
        "model=nb_adult.fit(trainingData_adult)\n",
        "\n",
        "predictions=model.transform(testData_adult)\n",
        "            \n",
        "evaluator= \\\n",
        "MulticlassClassificationEvaluator(labelCol=\"ClassIndex\",\\\n",
        "predictionCol=\"prediction\",metricName=\"accuracy\")\n",
        "accuracy=evaluator.evaluate(predictions)\n",
        "\n",
        "print(\"Naive Bayes for the adult data\")\n",
        "print(\"==============================\")\n",
        "print(\"Test Error = %g\" % (1.0 - accuracy))\n",
        "print(\"Test Set accuracy = \" +str(accuracy))                   "
      ],
      "metadata": {
        "id": "2bLtP7npa3Fv",
        "outputId": "0186720d-c34a-4ec4-c14b-138881306eb2",
        "colab": {
          "base_uri": "https://localhost:8080/"
        }
      },
      "id": "2bLtP7npa3Fv",
      "execution_count": 101,
      "outputs": [
        {
          "output_type": "stream",
          "name": "stdout",
          "text": [
            "Naive Bayes for the adult data\n",
            "==============================\n",
            "Test Error = 0.216482\n",
            "Test Set accuracy = 0.7835179625220002\n"
          ]
        }
      ]
    },
    {
      "cell_type": "code",
      "source": [
        ""
      ],
      "metadata": {
        "id": "agGTEuTRa3Im"
      },
      "id": "agGTEuTRa3Im",
      "execution_count": null,
      "outputs": []
    },
    {
      "cell_type": "code",
      "source": [
        ""
      ],
      "metadata": {
        "id": "hoxiFaQHa3LL"
      },
      "id": "hoxiFaQHa3LL",
      "execution_count": null,
      "outputs": []
    },
    {
      "cell_type": "code",
      "source": [
        ""
      ],
      "metadata": {
        "id": "dxDlvSKda3OA"
      },
      "id": "dxDlvSKda3OA",
      "execution_count": null,
      "outputs": []
    },
    {
      "cell_type": "code",
      "source": [
        ""
      ],
      "metadata": {
        "id": "IDBvpiZsa3Qr"
      },
      "id": "IDBvpiZsa3Qr",
      "execution_count": null,
      "outputs": []
    }
  ],
  "metadata": {
    "kernelspec": {
      "display_name": "Python 3",
      "language": "python",
      "name": "python3"
    },
    "language_info": {
      "codemirror_mode": {
        "name": "ipython",
        "version": 3
      },
      "file_extension": ".py",
      "mimetype": "text/x-python",
      "name": "python",
      "nbconvert_exporter": "python",
      "pygments_lexer": "ipython3",
      "version": "3.8.8"
    },
    "colab": {
      "name": "Lab 5.ipynb",
      "provenance": []
    }
  },
  "nbformat": 4,
  "nbformat_minor": 5
}